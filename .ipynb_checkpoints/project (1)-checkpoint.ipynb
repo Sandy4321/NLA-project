{
 "cells": [
  {
   "cell_type": "markdown",
   "metadata": {},
   "source": [
    "# A. Podkopaev, N. Puchkin, I. Silin\n",
    "\n",
    "# NLA project\n",
    "\n",
    "Solver for numerical solution of PDE\n",
    "\n",
    "$$\n",
    "\\begin{cases}\n",
    "    u_t(t,x) = \\sigma u_{xx}(t,x) - V(t,x)u(t,x), \\quad t\\in[0, T],\\, x\\in\\mathbb R \\\\\n",
    "    u(0, x) = f(x)\n",
    "\\end{cases}\n",
    "$$"
   ]
  },
  {
   "cell_type": "code",
   "execution_count": 1,
   "metadata": {
    "collapsed": false
   },
   "outputs": [],
   "source": [
    "from Code.pde_solver import PDE_Solver\n",
    "import numpy as np"
   ]
  },
  {
   "cell_type": "code",
   "execution_count": 2,
   "metadata": {
    "collapsed": true
   },
   "outputs": [],
   "source": [
    "import matplotlib.pyplot as plt\n",
    "from copy import deepcopy\n",
    "%matplotlib inline"
   ]
  },
  {
   "cell_type": "code",
   "execution_count": 3,
   "metadata": {
    "collapsed": true
   },
   "outputs": [],
   "source": [
    "def g(x):\n",
    "    return np.maximum(x - 0.5, 0)"
   ]
  },
  {
   "cell_type": "code",
   "execution_count": 6,
   "metadata": {
    "collapsed": true
   },
   "outputs": [],
   "source": [
    "gamma = 1\n",
    "r = 0.914\n",
    "\n",
    "sigma = 0.5\n",
    "T = [0.1, 0.5, 1, 2, 5]\n",
    "n = [2, 10, 20, 40, 100]\n",
    "u = []\n",
    "labels = ['T=0.1', 'T=0.5', 'T=1', 'T=2', 'T=5', 'T=10']\n",
    "functions = [lambda x : np.exp( 1. / (gamma**2) * (r - (0.5) * gamma ** 2) * x ) * g(np.exp(x))]"
   ]
  },
  {
   "cell_type": "code",
   "execution_count": 7,
   "metadata": {
    "collapsed": false
   },
   "outputs": [],
   "source": [
    "solver = PDE_Solver()\n",
    "solver.V = lambda x,t : r + 0.5 / (gamma**2) * (r - (0.5) * gamma ** 2) ** 2\n",
    "solver.a_x = 2 # right bound of coordinate segment\n",
    "solver.M = 100 # number of coordinate steps on the final iteration\n",
    "        \n",
    "for j in range(len(functions)):\n",
    "    for i in range(len(n)):\n",
    "        solver.f = functions[j]\n",
    "        solver.sigma = sigma\n",
    "        solver.n = n[i] # number of time steps\n",
    "        solver.T = T[i] # final moment of time        \n",
    "        \n",
    "        solver.Solve()\n",
    "        \n",
    "        u += [deepcopy(solver.u)]    "
   ]
  },
  {
   "cell_type": "code",
   "execution_count": 8,
   "metadata": {
    "collapsed": false
   },
   "outputs": [
    {
     "data": {
      "text/plain": [
       "<matplotlib.legend.Legend at 0x7212b38>"
      ]
     },
     "execution_count": 8,
     "metadata": {},
     "output_type": "execute_result"
    },
    {
     "data": {
      "image/png": "[encoded data removed]",
      "text/plain": [
       "<matplotlib.figure.Figure at 0x461c208>"
      ]
     },
     "metadata": {},
     "output_type": "display_data"
    }
   ],
   "source": [
    "x = np.linspace(-1. * solver.a_x, solver.a_x, solver.M + 1)\n",
    "\n",
    "plt.figure(figsize=(10, 5))\n",
    "plt.plot(x, functions[0](x), label='T=0')\n",
    "for i in range(len(n)):\n",
    "    plt.plot(x, u[i], label=labels[i])\n",
    "    \n",
    "plt.axis([-2, 2, -0.1, 25])\n",
    "plt.legend(loc=0)"
   ]
  },
  {
   "cell_type": "code",
   "execution_count": 23,
   "metadata": {
    "collapsed": false
   },
   "outputs": [
    {
     "name": "stdout",
     "output_type": "stream",
     "text": [
      "[ -1.78186428e+33  -1.82034065e+33  -1.85998655e+33  -1.90085149e+33\n",
      "  -1.94298305e+33  -1.98642660e+33  -2.03122503e+33  -2.07741837e+33\n",
      "  -2.12504351e+33  -2.17413387e+33  -2.22471908e+33  -2.27682465e+33\n",
      "  -2.33047163e+33  -2.38567635e+33  -2.44245005e+33  -2.50079861e+33\n",
      "  -2.56072223e+33  -2.62221518e+33  -2.68526548e+33  -2.74985469e+33\n",
      "  -2.81595763e+33  -2.88354218e+33  -2.95256905e+33  -3.02299162e+33\n",
      "  -3.09475580e+33  -3.16779983e+33  -3.24205421e+33  -3.31744166e+33\n",
      "  -3.39387699e+33  -3.47126713e+33  -3.54951114e+33  -3.62850024e+33\n",
      "  -3.70811788e+33  -3.78823991e+33  -3.86873466e+33  -3.94946315e+33\n",
      "  -4.03027935e+33  -4.11103038e+33  -4.19155683e+33  -4.27169310e+33\n",
      "  -4.35126775e+33  -4.43010391e+33  -4.50801970e+33  -4.58482871e+33\n",
      "  -4.66034048e+33  -4.73436106e+33  -4.80669351e+33  -4.87713855e+33\n",
      "  -4.94549510e+33  -5.01156095e+33  -5.07513338e+33  -5.13600986e+33\n",
      "  -5.19398868e+33  -5.24886966e+33  -5.30045487e+33  -5.34854929e+33\n",
      "  -5.39296156e+33  -5.43350465e+33  -5.46999659e+33  -5.50226112e+33\n",
      "  -5.53012844e+33  -5.55343584e+33  -5.57202836e+33  -5.58575943e+33\n",
      "  -5.59449149e+33  -5.59809656e+33  -5.59645684e+33  -5.58946520e+33\n",
      "  -5.57702570e+33  -5.55905404e+33  -5.53547801e+33  -5.50623783e+33\n",
      "  -5.47128654e+33  -5.43059026e+33  -5.38412848e+33  -5.33189424e+33\n",
      "  -5.27389432e+33  -5.21014932e+33  -5.14069375e+33  -5.06557606e+33\n",
      "  -4.98485855e+33  -4.89861737e+33  -4.80694232e+33  -4.70993672e+33\n",
      "  -4.60771716e+33  -4.50041325e+33  -4.38816728e+33  -4.27113389e+33\n",
      "  -4.14947965e+33  -4.02338262e+33  -3.89303190e+33  -3.75862707e+33\n",
      "  -3.62037768e+33  -3.47850264e+33  -3.33322965e+33  -3.18479451e+33\n",
      "  -3.03344052e+33  -2.87941775e+33  -2.72298237e+33  -2.56439591e+33\n",
      "  -2.40392456e+33]\n"
     ]
    }
   ],
   "source": [
    "print(u[3])"
   ]
  }
 ],
 "metadata": {
  "anaconda-cloud": {},
  "kernelspec": {
   "display_name": "Python 2",
   "language": "python",
   "name": "python2"
  },
  "language_info": {
   "codemirror_mode": {
    "name": "ipython",
    "version": 2
   },
   "file_extension": ".py",
   "mimetype": "text/x-python",
   "name": "python",
   "nbconvert_exporter": "python",
   "pygments_lexer": "ipython2",
   "version": "2.7.12"
  }
 },
 "nbformat": 4,
 "nbformat_minor": 1
}
