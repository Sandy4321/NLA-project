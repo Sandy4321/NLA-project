{
 "cells": [
  {
   "cell_type": "code",
   "execution_count": 5,
   "metadata": {
    "collapsed": false
   },
   "outputs": [],
   "source": [
    "import numpy as np\n",
    "from Code.pde_solver import PDE_Solver"
   ]
  },
  {
   "cell_type": "code",
   "execution_count": 6,
   "metadata": {
    "collapsed": true
   },
   "outputs": [],
   "source": [
    "def f(x):\n",
    "    return np.cos(x)\n",
    "\n",
    "def V(x, t):\n",
    "    return np.sin(x)+t"
   ]
  },
  {
   "cell_type": "code",
   "execution_count": 7,
   "metadata": {
    "collapsed": false
   },
   "outputs": [],
   "source": [
    "a = PDE_Solver()\n",
    "b = PDE_Solver(sigma=5, V=V, f=f, T=2, n=25, a_x = 7, M = 36)"
   ]
  },
  {
   "cell_type": "code",
   "execution_count": 13,
   "metadata": {
    "collapsed": false
   },
   "outputs": [
    {
     "name": "stdout",
     "output_type": "stream",
     "text": [
      "10\n"
     ]
    }
   ],
   "source": [
    "print a.M"
   ]
  },
  {
   "cell_type": "code",
   "execution_count": 4,
   "metadata": {
    "collapsed": false
   },
   "outputs": [],
   "source": [
    "a.Solve()"
   ]
  },
  {
   "cell_type": "code",
   "execution_count": 28,
   "metadata": {
    "collapsed": true
   },
   "outputs": [
    {
     "data": {
      "text/plain": [
       "array([ -2.54043071e-07,  -2.83392907e-07,  -3.01865789e-07,\n",
       "        -3.08522819e-07,  -3.02859973e-07,  -2.84865587e-07,\n",
       "        -2.55058711e-07,  -2.14500681e-07,  -1.64774020e-07,\n",
       "        -1.07925759e-07,  -4.63760658e-08,   1.72027860e-08,\n",
       "         8.00283136e-08,   1.39359047e-07,   1.92642266e-07,\n",
       "         2.37645924e-07,   2.72564532e-07,   2.96092169e-07,\n",
       "         3.07459803e-07,   3.06438183e-07,   2.93310928e-07,\n",
       "         2.68824845e-07,   2.34125491e-07,   1.90685829e-07,\n",
       "         1.40234476e-07,   8.46880976e-08,   2.60901482e-08,\n",
       "        -3.34440580e-08,  -9.17777810e-08,  -1.46801806e-07,\n",
       "        -1.96485290e-07,  -2.38931400e-07,  -2.72439408e-07,\n",
       "        -2.95572978e-07,  -3.07232151e-07,  -3.06724231e-07,\n",
       "        -2.93826828e-07,  -2.68835154e-07,  -2.32585580e-07,\n",
       "        -1.86448673e-07,  -1.32287442e-07,  -7.23800200e-08,\n",
       "        -9.31010029e-09,   5.41675545e-08,   1.15275978e-07,\n",
       "         1.71366750e-07,   2.20059898e-07,   2.59361652e-07,\n",
       "         2.87751715e-07,   3.04235495e-07,   3.08360932e-07,\n",
       "         3.00203235e-07,   2.80323725e-07,   2.49710545e-07,\n",
       "         2.09709302e-07,   1.61950803e-07,   1.08281328e-07,\n",
       "         5.06986071e-08,  -8.70560925e-09,  -6.77975385e-08,\n",
       "        -1.24450525e-07,  -1.76594700e-07,  -2.22270337e-07,\n",
       "        -2.59687174e-07,  -2.87290289e-07,  -3.03831008e-07,\n",
       "        -3.08438965e-07,  -3.00689323e-07,  -2.80657615e-07,\n",
       "        -2.48954094e-07,  -2.06730159e-07,  -1.55651381e-07,\n",
       "        -9.78348165e-08,  -3.57521829e-08,   2.78953810e-08,\n",
       "         9.03216459e-08,   1.48806832e-07,   2.00843510e-07,\n",
       "         2.44264783e-07,   2.77345018e-07,   2.98866931e-07,\n",
       "         3.08152939e-07,   3.05062623e-07,   2.89961469e-07,\n",
       "         2.63668116e-07,   2.27388249e-07,   1.82642766e-07,\n",
       "         1.31196474e-07,   7.49914599e-08,   1.60869477e-08,\n",
       "        -4.33947002e-08,  -1.01317939e-07,  -1.55583076e-07,\n",
       "        -2.04177746e-07,  -2.45233566e-07,  -2.77089344e-07,\n",
       "        -2.98360227e-07,  -3.08009900e-07,  -3.05420665e-07,\n",
       "        -2.90454409e-07,  -2.63496445e-07])"
      ]
     },
     "execution_count": 28,
     "metadata": {},
     "output_type": "execute_result"
    }
   ],
   "source": [
    "a.u"
   ]
  },
  {
   "cell_type": "code",
   "execution_count": 15,
   "metadata": {
    "collapsed": false
   },
   "outputs": [],
   "source": [
    "b = PDE_Solver(sigma=5, V=V, f=f, T = 10, n = 50, a_x = 20, M = 50)"
   ]
  },
  {
   "cell_type": "code",
   "execution_count": null,
   "metadata": {
    "collapsed": true
   },
   "outputs": [],
   "source": []
  }
 ],
 "metadata": {
  "kernelspec": {
   "display_name": "Python 2",
   "language": "python",
   "name": "python2"
  },
  "language_info": {
   "codemirror_mode": {
    "name": "ipython",
    "version": 2
   },
   "file_extension": ".py",
   "mimetype": "text/x-python",
   "name": "python",
   "nbconvert_exporter": "python",
   "pygments_lexer": "ipython2",
   "version": "2.7.12"
  }
 },
 "nbformat": 4,
 "nbformat_minor": 0
}
