{
 "cells": [
  {
   "cell_type": "markdown",
   "metadata": {},
   "source": [
    "# A. Podkopaev, N. Puchkin, I. Silin\n",
    "\n",
    "# NLA project\n",
    "\n",
    "Solver for numerical solution of PDE\n",
    "\n",
    "$$\n",
    "\\begin{cases}\n",
    "    u_t(t,x) = \\sigma u_{xx}(t,x) - V(t,x)u(t,x), \\quad t\\in[0, T],\\, x\\in\\mathbb R \\\\\n",
    "    u(0, x) = f(x)\n",
    "\\end{cases}\n",
    "$$"
   ]
  },
  {
   "cell_type": "code",
   "execution_count": 1,
   "metadata": {
    "collapsed": false
   },
   "outputs": [],
   "source": [
    "from Code.pde_solver import PDE_Solver\n",
    "import numpy as np"
   ]
  },
  {
   "cell_type": "code",
   "execution_count": 2,
   "metadata": {
    "collapsed": true
   },
   "outputs": [],
   "source": [
    "import matplotlib.pyplot as plt\n",
    "from copy import deepcopy\n",
    "%matplotlib inline"
   ]
  },
  {
   "cell_type": "code",
   "execution_count": 3,
   "metadata": {
    "collapsed": true
   },
   "outputs": [],
   "source": [
    "def g(x):\n",
    "    return np.maximum(x - 0.5, 0)"
   ]
  },
  {
   "cell_type": "code",
   "execution_count": 31,
   "metadata": {
    "collapsed": true
   },
   "outputs": [],
   "source": [
    "gamma = 1\n",
    "r = 0.914\n",
    "\n",
    "sigma = 0.5\n",
    "T = [0.1, 0.5, 1, 2, 5]\n",
    "n = [50, 50, 50, 50 ,50]\n",
    "u = []\n",
    "labels = ['T=0.1', 'T=0.5', 'T=1', 'T=2', 'T=5', 'T=10']\n",
    "functions = [lambda x : np.exp( 1. / (gamma**2) * (r - (0.5) * gamma ** 2) * x ) * g(np.exp(x))]"
   ]
  },
  {
   "cell_type": "code",
   "execution_count": 32,
   "metadata": {
    "collapsed": false
   },
   "outputs": [],
   "source": [
    "solver = PDE_Solver()\n",
    "solver.V = lambda x,t : r + 0.5 / (gamma**2) * (r - (0.5) * gamma ** 2) ** 2\n",
    "solver.a_x = 2 # right bound of coordinate segment\n",
    "solver.M = 100 # number of coordinate steps on the final iteration\n",
    "        \n",
    "u = []\n",
    "for j in range(len(functions)):\n",
    "    for i in range(len(n)):\n",
    "        solver.f = functions[j]\n",
    "        solver.sigma = sigma\n",
    "        solver.n = n[i] # number of time steps\n",
    "        solver.T = T[i] # final moment of time        \n",
    "        \n",
    "        solver.Solve()\n",
    "        \n",
    "        u += [deepcopy(solver.u)]    "
   ]
  },
  {
   "cell_type": "code",
   "execution_count": 33,
   "metadata": {
    "collapsed": false
   },
   "outputs": [
    {
     "data": {
      "text/plain": [
       "<matplotlib.legend.Legend at 0xa348550>"
      ]
     },
     "execution_count": 33,
     "metadata": {},
     "output_type": "execute_result"
    },
    {
     "data": {
      "image/png": "[encoded data removed]",
      "text/plain": [
       "<matplotlib.figure.Figure at 0xa3b4d68>"
      ]
     },
     "metadata": {},
     "output_type": "display_data"
    }
   ],
   "source": [
    "x = np.linspace(-1. * solver.a_x, solver.a_x, solver.M + 1)\n",
    "\n",
    "plt.figure(figsize=(10, 5))\n",
    "plt.plot(x, functions[0](x), label='T=0')\n",
    "for i in range(len(n)):\n",
    "    plt.plot(x, u[i], label=labels[i])\n",
    "    \n",
    "plt.axis([-2, 2, -0.1, 25])\n",
    "plt.legend(loc=0)"
   ]
  },
  {
   "cell_type": "code",
   "execution_count": 34,
   "metadata": {
    "collapsed": false
   },
   "outputs": [
    {
     "name": "stdout",
     "output_type": "stream",
     "text": [
      "[ -1.39266913e+46  -1.41370610e+46  -1.43545441e+46  -1.45792221e+46\n",
      "  -1.48111631e+46  -1.50504212e+46  -1.52970353e+46  -1.55510279e+46\n",
      "  -1.58124040e+46  -1.60811501e+46  -1.63572329e+46  -1.66405983e+46\n",
      "  -1.69311700e+46  -1.72288486e+46  -1.75335106e+46  -1.78450068e+46\n",
      "  -1.81631620e+46  -1.84877732e+46  -1.88186096e+46  -1.91554109e+46\n",
      "  -1.94978869e+46  -1.98457167e+46  -2.01985484e+46  -2.05559980e+46\n",
      "  -2.09176496e+46  -2.12830546e+46  -2.16517322e+46  -2.20231685e+46\n",
      "  -2.23968176e+46  -2.27721011e+46  -2.31484089e+46  -2.35250996e+46\n",
      "  -2.39015017e+46  -2.42769138e+46  -2.46506061e+46  -2.50218218e+46\n",
      "  -2.53897781e+46  -2.57536681e+46  -2.61126625e+46  -2.64659113e+46\n",
      "  -2.68125463e+46  -2.71516829e+46  -2.74824228e+46  -2.78038565e+46\n",
      "  -2.81150658e+46  -2.84151269e+46  -2.87031129e+46  -2.89780973e+46\n",
      "  -2.92391569e+46  -2.94853749e+46  -2.97158446e+46  -2.99296722e+46\n",
      "  -3.01259808e+46  -3.03039131e+46  -3.04626355e+46  -3.06013413e+46\n",
      "  -3.07192538e+46  -3.08156302e+46  -3.08897645e+46  -3.09409910e+46\n",
      "  -3.09686872e+46  -3.09722771e+46  -3.09512340e+46  -3.09050834e+46\n",
      "  -3.08334053e+46  -3.07358371e+46  -3.06120758e+46  -3.04618798e+46\n",
      "  -3.02850710e+46  -3.00815364e+46  -2.98512296e+46  -2.95941717e+46\n",
      "  -2.93104526e+46  -2.90002315e+46  -2.86637370e+46  -2.83012677e+46\n",
      "  -2.79131918e+46  -2.74999465e+46  -2.70620377e+46  -2.66000385e+46\n",
      "  -2.61145886e+46  -2.56063918e+46  -2.50762153e+46  -2.45248865e+46\n",
      "  -2.39532918e+46  -2.33623730e+46  -2.27531250e+46  -2.21265930e+46\n",
      "  -2.14838686e+46  -2.08260870e+46  -2.01544227e+46  -1.94700865e+46\n",
      "  -1.87743209e+46  -1.80683963e+46  -1.73536068e+46  -1.66312659e+46\n",
      "  -1.59027020e+46  -1.51692542e+46  -1.44322679e+46  -1.36930898e+46\n",
      "  -1.29530642e+46]\n"
     ]
    }
   ],
   "source": [
    "print(u[3])"
   ]
  },
  {
   "cell_type": "code",
   "execution_count": null,
   "metadata": {
    "collapsed": true
   },
   "outputs": [],
   "source": []
  }
 ],
 "metadata": {
  "anaconda-cloud": {},
  "kernelspec": {
   "display_name": "Python 2",
   "language": "python",
   "name": "python2"
  },
  "language_info": {
   "codemirror_mode": {
    "name": "ipython",
    "version": 2
   },
   "file_extension": ".py",
   "mimetype": "text/x-python",
   "name": "python",
   "nbconvert_exporter": "python",
   "pygments_lexer": "ipython2",
   "version": "2.7.12"
  }
 },
 "nbformat": 4,
 "nbformat_minor": 1
}
